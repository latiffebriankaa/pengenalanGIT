{
 "cells": [
  {
   "cell_type": "markdown",
   "id": "8e6c9a10-ba80-495b-abfb-558cff48f7c1",
   "metadata": {},
   "source": [
    "<center>  <img src=\"https://wsrv.nl/?url=https%3A%2F%2Fcodedamn-blog.s3.amazonaws.com%2Fwp-content%2Fuploads%2F2022%2F11%2F21211623%2FPython-vs-java.png&w=1280&q=82&output=webp\" width = \"200\" > </center> <br>\n",
    "pada jupyter notebooks jenis <b>cell</b> terbagi menjadi  <ol>\n",
    "    <li> M = mark down </li>\n",
    "    <li> Y = code </li>\n",
    "</ol>\n",
    "<hr>"
   ]
  },
  {
   "cell_type": "markdown",
   "id": "29cce8ff-e7dc-4c08-8a02-288cc30eb2e6",
   "metadata": {},
   "source": [
    "perintah perintah dasar untuk membuat dan menmghapus <b>cell</b>\n",
    "<ul>\n",
    "<li>a untuk menambahkan cell baru di atas cell aktif<li/>\n",
    "<li>b untuk menambahkan cell baru di bawah cell aktif<li/>\n",
    "<li>dd unutuk menghapus cell aktif <li/>\n",
    "</ul>\n",
    "\n",
    "<table>\n",
    "    <tr>\n",
    "        <td>perintah </td>\n",
    "        <td> keterangan</td>\n",
    "    </tr>\n",
    "    <tr>\n",
    "        <td>ctrl + enter </td>\n",
    "        <td>untuk menjalankan program dengan fokus di cell aktif</td>  \n",
    "    </tr>\n",
    "    <tr>\n",
    "        <td>shift + enter </td>\n",
    "        <td>untuk menjalankan program dengan fokus di cell berikutnya</td>\n",
    "    </tr>\n",
    "</table>"
   ]
  },
  {
   "cell_type": "code",
   "execution_count": 10,
   "id": "de8ac59d-8029-43fd-8b1a-60763e4ba816",
   "metadata": {},
   "outputs": [
    {
     "name": "stdout",
     "output_type": "stream",
     "text": [
      "hallo dek maen sama abang yukkk\n",
      "4\n"
     ]
    },
    {
     "data": {
      "text/plain": [
       "6"
      ]
     },
     "execution_count": 10,
     "metadata": {},
     "output_type": "execute_result"
    }
   ],
   "source": [
    "#ini adalah komentar\n",
    "print(\"hallo dek maen sama abang yukkk\")\n",
    "data = 4\n",
    "print(data + 5 )\n",
    "data\n",
    "3+3"
   ]
  },
  {
   "cell_type": "markdown",
   "id": "ee55f2f7-a579-4715-aa19-97f0780caf1b",
   "metadata": {},
   "source": [
    "basic git command \n",
    "\n",
    "1. git init\n",
    "2. git add .\n",
    "3. git status\n",
    "4. git commit - m\n",
    "5. git remmote add origin url\n",
    "6. git push -u origin main/master"
   ]
  },
  {
   "cell_type": "code",
   "execution_count": null,
   "id": "1e48cec8-acca-46f3-a487-ab2bde7aaa49",
   "metadata": {},
   "outputs": [],
   "source": []
  },
  {
   "cell_type": "code",
   "execution_count": null,
   "id": "21ed91f6-cf3d-458a-9dc0-056c591d3651",
   "metadata": {},
   "outputs": [],
   "source": []
  }
 ],
 "metadata": {
  "kernelspec": {
   "display_name": "Python [conda env:base] *",
   "language": "python",
   "name": "conda-base-py"
  },
  "language_info": {
   "codemirror_mode": {
    "name": "ipython",
    "version": 3
   },
   "file_extension": ".py",
   "mimetype": "text/x-python",
   "name": "python",
   "nbconvert_exporter": "python",
   "pygments_lexer": "ipython3",
   "version": "3.12.7"
  }
 },
 "nbformat": 4,
 "nbformat_minor": 5
}
