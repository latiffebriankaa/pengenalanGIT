{
 "cells": [
  {
   "cell_type": "code",
   "execution_count": 101,
   "id": "55fe99fa-29df-46d9-830f-de3935998feb",
   "metadata": {},
   "outputs": [
    {
     "name": "stdout",
     "output_type": "stream",
     "text": [
      "nama : latip\n",
      "alamat : citamiang\n",
      "umur :  23\n",
      "scorePy : 85.5\n",
      "menikah ? : False\n"
     ]
    }
   ],
   "source": [
    "nama = \"latip\"\n",
    "alamat,propinsi = \"citamiang\",\"4353453234\"\n",
    "age = 23\n",
    "scorePy = 85.5\n",
    "ismaa = False \n",
    "print(\"nama :\",nama)\n",
    "print(\"alamat :\",alamat)\n",
    "print(\"umur : \",age)\n",
    "print(\"scorePy :\",scorePy)\n",
    "print(\"menikah ? :\",ismaa)"
   ]
  },
  {
   "cell_type": "code",
   "execution_count": 103,
   "id": "f382208d-d658-4ea6-8014-931c1baad477",
   "metadata": {
    "scrolled": true
   },
   "outputs": [
    {
     "name": "stdout",
     "output_type": "stream",
     "text": [
      "tipe data <name> <class 'str'>\n",
      "tipe data <alamat> <class 'str'>\n",
      "tipe data <age> <class 'int'>\n",
      "tipe data <scorePy> <class 'float'>\n",
      "tipe data <ismaa> <class 'bool'>\n"
     ]
    }
   ],
   "source": [
    "print(\"tipe data <name>\",type(nama))\n",
    "print(\"tipe data <alamat>\",type(alamat))\n",
    "print(\"tipe data <age>\",type(age))\n",
    "print(\"tipe data <scorePy>\",type(scorePy))\n",
    "print(\"tipe data <ismaa>\",type(ismaa))"
   ]
  },
  {
   "cell_type": "code",
   "execution_count": 149,
   "id": "53852e04-2609-4bc3-93e3-32e857ad6c78",
   "metadata": {},
   "outputs": [
    {
     "name": "stdout",
     "output_type": "stream",
     "text": [
      "4353453236_4353453234.0_True\n",
      "23_23.0_True\n",
      "85_85.5_True\n",
      "85_85.5_True\n"
     ]
    }
   ],
   "source": [
    "strToint = int(propinsi)\n",
    "strToiFloat = float(propinsi)\n",
    "strTobool = bool(propinsi)\n",
    "print(strToint + 2 ,strToiFloat,strTobool,sep=\"_\")\n",
    "\n",
    "intTostr = str(age)\n",
    "intToiFloat = float(age)\n",
    "intTobool = bool(age)\n",
    "print(intTostr,intToiFloat,intTobool,sep=\"_\")\n",
    "\n",
    "floatToint = int(scorePy)\n",
    "floatToistr = str(scorePy)\n",
    "floatTobool = bool(scorePy)\n",
    "print(floatToint,floatToistr,floatTobool,sep=\"_\")\n",
    "\n",
    "boolToint = int(scorePy)\n",
    "boolToistr = str(scorePy)\n",
    "boolTofloat = bool(scorePy)\n",
    "print(boolToint,boolToistr,boolTofloat,sep=\"_\")\n",
    "\n"
   ]
  },
  {
   "cell_type": "code",
   "execution_count": 109,
   "id": "d21fcd18-8158-4f5a-8e00-c20997529fcb",
   "metadata": {},
   "outputs": [
    {
     "name": "stdout",
     "output_type": "stream",
     "text": [
      "nilai desimal 500\n",
      "nilai biner 10\n",
      "nilai octal 255\n",
      "nilai hexa 255\n",
      "nilai biner dari  500  :  0b111110100\n",
      "nilai octal dari  500  :  0o764\n",
      "nilai hex dari  500  :  0x1f4\n"
     ]
    }
   ],
   "source": [
    "#tipe data basis bilangan (desimal,biner,octal,hexa)\n",
    "\n",
    "desimal  = 500\n",
    "biner = 0b1010 \n",
    "octal = 0o377\n",
    "hexa = 0xff\n",
    "\n",
    "print(\"nilai desimal\", desimal)\n",
    "print(\"nilai biner\", biner)\n",
    "print(\"nilai octal\", octal)\n",
    "print(\"nilai hexa\", hexa)\n",
    "\n",
    "print(\"nilai biner dari \", desimal ,\" : \",bin(desimal))\n",
    "print(\"nilai octal dari \", desimal ,\" : \",oct(desimal))\n",
    "print(\"nilai hex dari \", desimal ,\" : \",hex(desimal))"
   ]
  },
  {
   "cell_type": "code",
   "execution_count": 85,
   "id": "1d317c3c-723c-4dc7-b57a-9bc470483596",
   "metadata": {},
   "outputs": [
    {
     "name": "stdout",
     "output_type": "stream",
     "text": [
      "B\n",
      "7\n",
      "G\n"
     ]
    }
   ],
   "source": [
    "city = \"BANDUNG\"\n",
    "length = len(city)\n",
    "print(city[0])\n",
    "print(length)\n",
    "print(city[length-1])"
   ]
  },
  {
   "cell_type": "code",
   "execution_count": 115,
   "id": "789cfc0a-0841-4be6-b8cc-62fe45f6cc03",
   "metadata": {
    "jp-MarkdownHeadingCollapsed": true
   },
   "outputs": [
    {
     "name": "stdout",
     "output_type": "stream",
     "text": [
      "['bandung', 'sukabumi', 'bogor', 'maluku']\n",
      "maluku\n",
      "m\n",
      "u\n",
      "['bandung', 'sukabumi', 'bogor', 'bali']\n",
      "('latip', 'lutfi', 'asdfjj', 'sdfjshd')\n",
      "latip\n"
     ]
    }
   ],
   "source": [
    "#tipe data collection\n",
    "#list\n",
    "cities = [\"bandung\",\"sukabumi\",\"bogor\",\"maluku\",]\n",
    "lencities = len(cities)\n",
    "print(cities)\n",
    "print(cities[lencities-1])\n",
    "print(cities[lencities-1][0])\n",
    "print(cities[lencities-1][len(cities[lencities-1])-1])\n",
    "cities[3] = \"bali\"\n",
    "print(cities)\n",
    "\n",
    "#tupple\n",
    "names = (\"latip\",\"lutfi\",\"asdfjj\",\"sdfjshd\",)\n",
    "print(names)\n",
    "print(names[0])\n"
   ]
  },
  {
   "cell_type": "code",
   "execution_count": 133,
   "id": "0f842be9-81a6-465e-b84d-deb9a6655c8a",
   "metadata": {},
   "outputs": [
    {
     "name": "stdout",
     "output_type": "stream",
     "text": [
      "{'nama': 'latip', 'umur': 10, 'alamat': {'jalan': 'rh.didisukardi', 'noRumah': 21, 'provinsi': 'jawabarat'}, 'Ismaried ? ': False, 'hobbi': ['membaca', 'mendaki']}\n",
      "10\n",
      "21\n",
      "membaca\n",
      "{'nama': 'febrianka', 'umur': 13, 'alamat': {'jalan': 'rh.didisukardi', 'noRumah': 21, 'provinsi': 'jawabarat'}, 'Ismaried ? ': False, 'hobbi': ['membaca', 'mendaki']}\n",
      "{'nama': 'tanpanama', 'umur': 100, 'alamat': {'jalan': 'suka', 'noRumah': 21, 'provinsi': 'jawab'}, 'Ismaried ? ': False, 'hobbi': ['game', 'main']}\n",
      "{'nama': 'suka', 'umur': 78, 'alamat': {'jalan': 'sukab', 'noRumah': 21, 'provinsi': 'jawabsdf'}, 'Ismaried ? ': False, 'hobbi': ['asdf', 'lorem']}\n",
      "13\n"
     ]
    }
   ],
   "source": [
    "datamhs = {\n",
    "    \"nama\" : \"latip\",\n",
    "    \"umur\" : 10,\n",
    "    \"alamat\" : {\n",
    "        \"jalan\" : \"rh.didisukardi\",\n",
    "        \"noRumah\" : 21,\n",
    "        \"provinsi\" : \"jawabarat\"\n",
    "    },\n",
    "    \"Ismaried ? \" : False,\n",
    "    \"hobbi\" : [\"membaca\",\"mendaki\"]\n",
    "}\n",
    "\n",
    "print(datamhs)\n",
    "print(datamhs[\"umur\"])\n",
    "print(datamhs[\"alamat\"][\"noRumah\"])\n",
    "print(datamhs[\"hobbi\"][0])\n",
    "\n",
    "studentlist = [\n",
    "  {\n",
    "    \"nama\" : \"febrianka\",\n",
    "    \"umur\" : 13,\n",
    "    \"alamat\" : {\n",
    "        \"jalan\" : \"rh.didisukardi\",\n",
    "        \"noRumah\" : 21,\n",
    "        \"provinsi\" : \"jawabarat\"\n",
    "    },\n",
    "    \"Ismaried ? \" : False,\n",
    "    \"hobbi\" : [\"membaca\",\"mendaki\"]\n",
    "},\n",
    "    {\n",
    "    \"nama\" : \"tanpanama\",\n",
    "    \"umur\" : 100,\n",
    "    \"alamat\" : {\n",
    "        \"jalan\" : \"suka\",\n",
    "        \"noRumah\" : 21,\n",
    "        \"provinsi\" : \"jawab\"\n",
    "    },\n",
    "    \"Ismaried ? \" : False,\n",
    "    \"hobbi\" : [\"game\",\"main\"]\n",
    "},\n",
    "    {\n",
    "    \"nama\" : \"suka\",\n",
    "    \"umur\" : 78,\n",
    "    \"alamat\" : {\n",
    "        \"jalan\" : \"sukab\",\n",
    "        \"noRumah\" : 21,\n",
    "        \"provinsi\" : \"jawabsdf\"\n",
    "    },\n",
    "    \"Ismaried ? \" : False,\n",
    "    \"hobbi\" : [\"asdf\",\"lorem\"]\n",
    "}\n",
    "]\n",
    "\n",
    "print(studentlist[0])\n",
    "print(studentlist[1])\n",
    "print(studentlist[2])\n",
    "print(studentlist[0][\"umur\"])"
   ]
  },
  {
   "cell_type": "code",
   "execution_count": 147,
   "id": "11740aad-6935-41f8-846b-30fc58084a15",
   "metadata": {
    "scrolled": true
   },
   "outputs": [
    {
     "name": "stdout",
     "output_type": "stream",
     "text": [
      "{'nama': 'latip', 'umur': 30, 'status': True}\n",
      "{'nama': 'latip', 'alamat': 'sukabumi'}\n",
      "{'nama': 'macan', 'tipe': 'mamalia'}\n",
      "{'nama': 'cobra', 'tipe': 'reptil'}\n",
      "{'vehicle': 'car', 'brand': 'mustang', 'cc': '1'}\n"
     ]
    }
   ],
   "source": [
    "#konversi dictionary\n",
    "list_list = [[\"nama\",\"latip\"],[\"umur\",30],[\"status\",True]]\n",
    "diclistmhs = dict( list_list)\n",
    "print(diclistmhs)\n",
    "\n",
    "list_tuple = [(\"nama\", \"latip\"),(\"alamat\", \"sukabumi\")]\n",
    "diclistmhs = dict(list_tuple)\n",
    "print(diclistmhs)\n",
    "\n",
    "tuple_list = ([\"nama\", \"macan\"],[\"tipe\", \"mamalia\"])\n",
    "dictlistanimal = dict(tuple_list)\n",
    "print(dictlistanimal)\n",
    "\n",
    "tuple_tuple = ((\"nama\",\"cobra\"),(\"tipe\",\"reptil\"))\n",
    "dictlistanimal = dict(tuple_tuple)\n",
    "print(dictlistanimal)\n",
    "\n",
    "keys = [\"vehicle\",\"brand\",\"cc\"]\n",
    "values = [\"car\", \"mustang\",\"1\"]\n",
    "car = dict(zip(keys,values))\n",
    "print(car)\n"
   ]
  },
  {
   "cell_type": "code",
   "execution_count": null,
   "id": "b4a1506b-f2f7-4172-bbca-97828a10ba3a",
   "metadata": {},
   "outputs": [],
   "source": []
  },
  {
   "cell_type": "code",
   "execution_count": null,
   "id": "d428365a-7722-431d-9654-e79f2511e125",
   "metadata": {},
   "outputs": [],
   "source": []
  }
 ],
 "metadata": {
  "kernelspec": {
   "display_name": "Python [conda env:base] *",
   "language": "python",
   "name": "conda-base-py"
  },
  "language_info": {
   "codemirror_mode": {
    "name": "ipython",
    "version": 3
   },
   "file_extension": ".py",
   "mimetype": "text/x-python",
   "name": "python",
   "nbconvert_exporter": "python",
   "pygments_lexer": "ipython3",
   "version": "3.12.7"
  }
 },
 "nbformat": 4,
 "nbformat_minor": 5
}
