{
 "cells": [
  {
   "cell_type": "markdown",
   "id": "bb24285c-812c-4e62-a82b-2f4b5d74acdb",
   "metadata": {},
   "source": [
    "<h1>1.operator aritmatika</h1>"
   ]
  },
  {
   "cell_type": "code",
   "execution_count": 54,
   "id": "abfefef1-4ea2-48fb-b8b5-e42d480ed92a",
   "metadata": {},
   "outputs": [
    {
     "name": "stdout",
     "output_type": "stream",
     "text": [
      "Setiap teman menerima 3.0 apel.\n",
      "Total apel yang dimiliki Budi sekarang adalah 20.\n"
     ]
    }
   ],
   "source": [
    "apel = 12\n",
    "teman = 4\n",
    "apelPerTeman = apel / teman\n",
    "print(f\"Setiap teman menerima {apel_per_teman} apel.\")\n",
    "\n",
    "# b. Total apel setelah tambahan\n",
    "tambahanApel = 8\n",
    "totalApel = apel + tambahanApel\n",
    "print(f\"Total apel yang dimiliki Budi sekarang adalah {total_apel}.\")"
   ]
  },
  {
   "cell_type": "markdown",
   "id": "d2efa79f-77cf-4897-a3ca-5f07c8f2053a",
   "metadata": {},
   "source": [
    "<h1>2.operator perbandingan</h1>"
   ]
  },
  {
   "cell_type": "code",
   "execution_count": 52,
   "id": "11a81968-3f56-447d-9d53-b43e63faadf9",
   "metadata": {},
   "outputs": [
    {
     "name": "stdout",
     "output_type": "stream",
     "text": [
      "Andi lebih tinggi dari Siti.\n"
     ]
    }
   ],
   "source": [
    "tinggiSiti = 160\n",
    "tinggiAndi = 165\n",
    "if tinggiSiti > tinggiAndi:\n",
    "    print(\"Siti lebih tinggi dari Andi.\")\n",
    "elif tinggiSiti < tinggiAndi:\n",
    "    print(\"Andi lebih tinggi dari Siti.\")"
   ]
  },
  {
   "cell_type": "markdown",
   "id": "f0d5f28a-0365-4dd7-87e8-2b3d64272e27",
   "metadata": {},
   "source": [
    "<h1>3.operator logika </h1>"
   ]
  },
  {
   "cell_type": "code",
   "execution_count": 62,
   "id": "4a518b92-3faa-4b75-9b4c-f31492a405ce",
   "metadata": {},
   "outputs": [
    {
     "name": "stdout",
     "output_type": "stream",
     "text": [
      "Budi bisa bermain di luar (and): True\n",
      "Budi bisa bermain di luar (or): True\n",
      "Budi bisa bermain di luar (not): False\n"
     ]
    }
   ],
   "source": [
    "#and\n",
    "CuacaCerah = True\n",
    "PrSelesai = True\n",
    "budiBisaBermain = CuacaCerah and PrSelesai\n",
    "print(f\"Budi bisa bermain di luar (and): {budiBisaBermain}\")\n",
    "\n",
    "#or\n",
    "budiBisaBermainOr = CuacaCerah or PrSelesai\n",
    "print(f\"Budi bisa bermain di luar (or): {budiBisaBermainOr}\")\n",
    "\n",
    "#not\n",
    "BudiBisaBermainNot = not budiBisaBermain\n",
    "print(f\"Budi bisa bermain di luar (not): {BudiBisaBermainNot}\")\n"
   ]
  },
  {
   "cell_type": "markdown",
   "id": "1951806c-303c-4a8a-8f85-bdda6904039e",
   "metadata": {},
   "source": [
    "<h1>4.operator bitwise </h1>"
   ]
  },
  {
   "cell_type": "code",
   "execution_count": 65,
   "id": "dc2b67c3-2c79-4f40-ab18-c95364c39b24",
   "metadata": {},
   "outputs": [
    {
     "name": "stdout",
     "output_type": "stream",
     "text": [
      "Hasil AND: 2, OR: 7, XOR: 5\n"
     ]
    }
   ],
   "source": [
    "angka1 = 6  # 0110\n",
    "angka2 = 3  # 0011\n",
    "andResult = angka1 & angka2\n",
    "orResult = angka1 | angka2\n",
    "xorResult = angka1 ^ angka2\n",
    "print(f\"Hasil AND: {andResult}, OR: {orResult}, XOR: {xorResult}\")\n"
   ]
  },
  {
   "cell_type": "markdown",
   "id": "256954a8-39fa-425a-9f5d-e9e2bad8e040",
   "metadata": {},
   "source": [
    "`<h1>5.operator penugasan</h1>"
   ]
  },
  {
   "cell_type": "code",
   "execution_count": 67,
   "id": "6891ac8f-b794-4f4d-9c33-6e233739cb98",
   "metadata": {},
   "outputs": [
    {
     "name": "stdout",
     "output_type": "stream",
     "text": [
      "Sisa saldo pulsa: 40000\n"
     ]
    }
   ],
   "source": [
    "saldoPulsa = 50000\n",
    "saldoPulsa += 20000  \n",
    "saldoPulsa -= 30000  \n",
    "print(f\"Sisa saldo pulsa: {saldoPulsa}\")\n"
   ]
  },
  {
   "cell_type": "markdown",
   "id": "29ec3881-a5ec-4e13-8968-1ece57ea2ebe",
   "metadata": {},
   "source": [
    "`<h1>6.operator keanggotaan</h1>"
   ]
  },
  {
   "cell_type": "code",
   "execution_count": 69,
   "id": "db3b1b06-4da1-4fff-bf8b-eccce30be968",
   "metadata": {},
   "outputs": [
    {
     "name": "stdout",
     "output_type": "stream",
     "text": [
      "Eka terdaftar sebagai peserta: False\n",
      "Kata 'Python' ada dalam kalimat: True\n"
     ]
    }
   ],
   "source": [
    "peserta = [\"Andi\", \"Budi\", \"Citra\", \"Dewi\"]\n",
    "isEkaTerdaftar = \"Eka\" in peserta\n",
    "print(f\"Eka terdaftar sebagai peserta: {isEkaTerdaftar}\")\n",
    "\n",
    "kalimat = \"Saya suka belajar Python\"\n",
    "isPythonAda = \"Python\" in kalimat\n",
    "print(f\"Kata 'Python' ada dalam kalimat: {isPythonAda}\")"
   ]
  },
  {
   "cell_type": "markdown",
   "id": "522f4ee2-61f1-4da1-99c5-44b018a47958",
   "metadata": {},
   "source": [
    "`<h1>7.operator identitas</h1>"
   ]
  },
  {
   "cell_type": "code",
   "execution_count": 73,
   "id": "b2f97037-8d17-447f-aae6-b1d175c2cf38",
   "metadata": {},
   "outputs": [
    {
     "name": "stdout",
     "output_type": "stream",
     "text": [
      "x dan y merujuk ke objek yang sama: True\n",
      "list1 dan list2 merujuk ke objek yang sama: True\n"
     ]
    }
   ],
   "source": [
    "x = [1, 2, 3]\n",
    "y = x\n",
    "print(f\"x dan y merujuk ke objek yang sama: {x is y}\")\n",
    "\n",
    "list1 = [1, 2, 3]\n",
    "list2 = [1, 2, 3]\n",
    "print(f\"list1 dan list2 merujuk ke objek yang sama: {list1 is list2}\")\n"
   ]
  },
  {
   "cell_type": "markdown",
   "id": "e9faa6c8-61f4-4148-8954-198324aa6f7c",
   "metadata": {},
   "source": [
    "`<h1>8.operator ternary</h1>"
   ]
  },
  {
   "cell_type": "code",
   "execution_count": 75,
   "id": "e155533e-e6f9-4fc3-af83-3038c42e35a6",
   "metadata": {},
   "outputs": [
    {
     "name": "stdout",
     "output_type": "stream",
     "text": [
      "Lebih besar dari 100\n",
      "Lulus\n"
     ]
    }
   ],
   "source": [
    "angka = 150\n",
    "hasilAngka = \"Lebih besar dari 100\" if angka > 100 else \"Tidak lebih besar dari 100\"\n",
    "print(hasilAngka)\n",
    "\n",
    "nilaiUjian = 75\n",
    "hasilNilai = \"Lulus\" if nilaiUjian > 70 else \"Tidak Lulus\"\n",
    "print(hasilNilai)"
   ]
  }
 ],
 "metadata": {
  "kernelspec": {
   "display_name": "Python [conda env:base] *",
   "language": "python",
   "name": "conda-base-py"
  },
  "language_info": {
   "codemirror_mode": {
    "name": "ipython",
    "version": 3
   },
   "file_extension": ".py",
   "mimetype": "text/x-python",
   "name": "python",
   "nbconvert_exporter": "python",
   "pygments_lexer": "ipython3",
   "version": "3.12.7"
  }
 },
 "nbformat": 4,
 "nbformat_minor": 5
}
